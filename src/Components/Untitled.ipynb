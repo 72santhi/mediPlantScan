{
 "cells": [
  {
   "cell_type": "code",
   "execution_count": 1,
   "id": "56e1eb9a",
   "metadata": {},
   "outputs": [
    {
     "name": "stdout",
     "output_type": "stream",
     "text": [
      "Collecting tensorflowjs\n",
      "  Downloading tensorflowjs-4.15.0-py3-none-any.whl (89 kB)\n",
      "  Downloading tensorflowjs-4.14.0-py3-none-any.whl (89 kB)\n",
      "  Downloading tensorflowjs-4.13.0-py3-none-any.whl (89 kB)\n",
      "  Downloading tensorflowjs-4.12.0-py3-none-any.whl (89 kB)\n",
      "  Downloading tensorflowjs-4.11.0-py3-none-any.whl (89 kB)\n",
      "  Downloading tensorflowjs-4.10.0-py3-none-any.whl (89 kB)\n",
      "Collecting tensorflow-hub>=0.13.0\n",
      "  Downloading tensorflow_hub-0.15.0-py2.py3-none-any.whl (85 kB)\n",
      "Requirement already satisfied: six<2,>=1.12.0 in c:\\users\\santhi_311\\appdata\\local\\programs\\python\\python36\\lib\\site-packages (from tensorflowjs) (1.15.0)\n",
      "Collecting tensorflowjs\n",
      "  Downloading tensorflowjs-4.9.0-py3-none-any.whl (89 kB)\n",
      "  Downloading tensorflowjs-4.8.0-py3-none-any.whl (85 kB)\n",
      "  Downloading tensorflowjs-4.7.0-py3-none-any.whl (85 kB)\n",
      "  Downloading tensorflowjs-4.6.0-py3-none-any.whl (85 kB)\n",
      "  Downloading tensorflowjs-4.5.0-py3-none-any.whl (85 kB)\n",
      "  Downloading tensorflowjs-4.4.0-py3-none-any.whl (85 kB)\n",
      "Collecting flax>=0.6.2\n",
      "  Downloading flax-0.7.2-py3-none-any.whl (226 kB)\n",
      "Collecting tensorflowjs\n",
      "  Downloading tensorflowjs-4.3.0-py3-none-any.whl (85 kB)\n",
      "  Downloading tensorflowjs-4.2.0-py3-none-any.whl (84 kB)\n",
      "  Downloading tensorflowjs-4.1.0-py3-none-any.whl (84 kB)\n",
      "  Downloading tensorflowjs-4.0.0-py3-none-any.whl (83 kB)\n",
      "  Downloading tensorflowjs-3.21.0-py3-none-any.whl (81 kB)\n",
      "  Downloading tensorflowjs-3.20.0-py3-none-any.whl (81 kB)\n",
      "  Downloading tensorflowjs-3.19.0-py3-none-any.whl (78 kB)\n",
      "Requirement already satisfied: tensorflow<3,>=2.1.0 in c:\\users\\santhi_311\\appdata\\local\\programs\\python\\python36\\lib\\site-packages (from tensorflowjs) (2.6.2)\n",
      "  Downloading tensorflowjs-3.18.0-py3-none-any.whl (77 kB)\n",
      "Collecting packaging~=20.9\n",
      "  Downloading packaging-20.9-py2.py3-none-any.whl (40 kB)\n",
      "Note: you may need to restart the kernel to use updated packages.\n",
      "Collecting tensorflow-hub<0.13,>=0.7.0\n",
      "  Downloading tensorflow_hub-0.12.0-py2.py3-none-any.whl (108 kB)\n",
      "Requirement already satisfied: pyparsing>=2.0.2 in c:\\users\\santhi_311\\appdata\\local\\programs\\python\\python36\\lib\\site-packages (from packaging~=20.9->tensorflowjs) (3.0.7)\n",
      "Requirement already satisfied: grpcio<2.0,>=1.37.0 in c:\\users\\santhi_311\\appdata\\local\\programs\\python\\python36\\lib\\site-packages (from tensorflow<3,>=2.1.0->tensorflowjs) (1.48.2)\n",
      "Requirement already satisfied: flatbuffers~=1.12.0 in c:\\users\\santhi_311\\appdata\\local\\programs\\python\\python36\\lib\\site-packages (from tensorflow<3,>=2.1.0->tensorflowjs) (1.12)\n",
      "Requirement already satisfied: tensorboard<2.7,>=2.6.0 in c:\\users\\santhi_311\\appdata\\local\\programs\\python\\python36\\lib\\site-packages (from tensorflow<3,>=2.1.0->tensorflowjs) (2.6.0)\n",
      "Requirement already satisfied: keras<2.7,>=2.6.0 in c:\\users\\santhi_311\\appdata\\local\\programs\\python\\python36\\lib\\site-packages (from tensorflow<3,>=2.1.0->tensorflowjs) (2.6.0)\n",
      "Requirement already satisfied: keras-preprocessing~=1.1.2 in c:\\users\\santhi_311\\appdata\\local\\programs\\python\\python36\\lib\\site-packages (from tensorflow<3,>=2.1.0->tensorflowjs) (1.1.2)\n",
      "Requirement already satisfied: h5py~=3.1.0 in c:\\users\\santhi_311\\appdata\\local\\programs\\python\\python36\\lib\\site-packages (from tensorflow<3,>=2.1.0->tensorflowjs) (3.1.0)\n",
      "Requirement already satisfied: opt-einsum~=3.3.0 in c:\\users\\santhi_311\\appdata\\local\\programs\\python\\python36\\lib\\site-packages (from tensorflow<3,>=2.1.0->tensorflowjs) (3.3.0)\n",
      "Requirement already satisfied: protobuf>=3.9.2 in c:\\users\\santhi_311\\appdata\\local\\programs\\python\\python36\\lib\\site-packages (from tensorflow<3,>=2.1.0->tensorflowjs) (3.19.6)\n",
      "Requirement already satisfied: termcolor~=1.1.0 in c:\\users\\santhi_311\\appdata\\local\\programs\\python\\python36\\lib\\site-packages (from tensorflow<3,>=2.1.0->tensorflowjs) (1.1.0)\n",
      "Requirement already satisfied: wheel~=0.35 in c:\\users\\santhi_311\\appdata\\local\\programs\\python\\python36\\lib\\site-packages (from tensorflow<3,>=2.1.0->tensorflowjs) (0.37.1)\n",
      "Requirement already satisfied: wrapt~=1.12.1 in c:\\users\\santhi_311\\appdata\\local\\programs\\python\\python36\\lib\\site-packages (from tensorflow<3,>=2.1.0->tensorflowjs) (1.12.1)\n",
      "Requirement already satisfied: tensorflow-estimator<2.7,>=2.6.0 in c:\\users\\santhi_311\\appdata\\local\\programs\\python\\python36\\lib\\site-packages (from tensorflow<3,>=2.1.0->tensorflowjs) (2.6.0)\n",
      "Requirement already satisfied: google-pasta~=0.2 in c:\\users\\santhi_311\\appdata\\local\\programs\\python\\python36\\lib\\site-packages (from tensorflow<3,>=2.1.0->tensorflowjs) (0.2.0)\n",
      "Requirement already satisfied: clang~=5.0 in c:\\users\\santhi_311\\appdata\\local\\programs\\python\\python36\\lib\\site-packages (from tensorflow<3,>=2.1.0->tensorflowjs) (5.0)\n",
      "Requirement already satisfied: absl-py~=0.10 in c:\\users\\santhi_311\\appdata\\local\\programs\\python\\python36\\lib\\site-packages (from tensorflow<3,>=2.1.0->tensorflowjs) (0.15.0)\n",
      "Requirement already satisfied: gast==0.4.0 in c:\\users\\santhi_311\\appdata\\local\\programs\\python\\python36\\lib\\site-packages (from tensorflow<3,>=2.1.0->tensorflowjs) (0.4.0)\n",
      "Requirement already satisfied: typing-extensions~=3.7.4 in c:\\users\\santhi_311\\appdata\\local\\programs\\python\\python36\\lib\\site-packages (from tensorflow<3,>=2.1.0->tensorflowjs) (3.7.4.3)\n",
      "Requirement already satisfied: astunparse~=1.6.3 in c:\\users\\santhi_311\\appdata\\local\\programs\\python\\python36\\lib\\site-packages (from tensorflow<3,>=2.1.0->tensorflowjs) (1.6.3)\n",
      "Requirement already satisfied: numpy~=1.19.2 in c:\\users\\santhi_311\\appdata\\local\\programs\\python\\python36\\lib\\site-packages (from tensorflow<3,>=2.1.0->tensorflowjs) (1.19.2)\n",
      "Requirement already satisfied: cached-property in c:\\users\\santhi_311\\appdata\\local\\programs\\python\\python36\\lib\\site-packages (from h5py~=3.1.0->tensorflow<3,>=2.1.0->tensorflowjs) (1.5.2)\n",
      "Requirement already satisfied: requests<3,>=2.21.0 in c:\\users\\santhi_311\\appdata\\local\\programs\\python\\python36\\lib\\site-packages (from tensorboard<2.7,>=2.6.0->tensorflow<3,>=2.1.0->tensorflowjs) (2.27.1)\n",
      "Requirement already satisfied: google-auth<2,>=1.6.3 in c:\\users\\santhi_311\\appdata\\local\\programs\\python\\python36\\lib\\site-packages (from tensorboard<2.7,>=2.6.0->tensorflow<3,>=2.1.0->tensorflowjs) (1.35.0)\n",
      "Requirement already satisfied: werkzeug>=0.11.15 in c:\\users\\santhi_311\\appdata\\local\\programs\\python\\python36\\lib\\site-packages (from tensorboard<2.7,>=2.6.0->tensorflow<3,>=2.1.0->tensorflowjs) (2.0.3)\n",
      "Requirement already satisfied: tensorboard-data-server<0.7.0,>=0.6.0 in c:\\users\\santhi_311\\appdata\\local\\programs\\python\\python36\\lib\\site-packages (from tensorboard<2.7,>=2.6.0->tensorflow<3,>=2.1.0->tensorflowjs) (0.6.1)\n",
      "Requirement already satisfied: markdown>=2.6.8 in c:\\users\\santhi_311\\appdata\\local\\programs\\python\\python36\\lib\\site-packages (from tensorboard<2.7,>=2.6.0->tensorflow<3,>=2.1.0->tensorflowjs) (3.3.7)\n",
      "Requirement already satisfied: google-auth-oauthlib<0.5,>=0.4.1 in c:\\users\\santhi_311\\appdata\\local\\programs\\python\\python36\\lib\\site-packages (from tensorboard<2.7,>=2.6.0->tensorflow<3,>=2.1.0->tensorflowjs) (0.4.6)\n",
      "Requirement already satisfied: setuptools>=41.0.0 in c:\\users\\santhi_311\\appdata\\local\\programs\\python\\python36\\lib\\site-packages (from tensorboard<2.7,>=2.6.0->tensorflow<3,>=2.1.0->tensorflowjs) (59.6.0)\n",
      "Requirement already satisfied: tensorboard-plugin-wit>=1.6.0 in c:\\users\\santhi_311\\appdata\\local\\programs\\python\\python36\\lib\\site-packages (from tensorboard<2.7,>=2.6.0->tensorflow<3,>=2.1.0->tensorflowjs) (1.8.1)\n",
      "Requirement already satisfied: cachetools<5.0,>=2.0.0 in c:\\users\\santhi_311\\appdata\\local\\programs\\python\\python36\\lib\\site-packages (from google-auth<2,>=1.6.3->tensorboard<2.7,>=2.6.0->tensorflow<3,>=2.1.0->tensorflowjs) (4.2.4)\n",
      "Requirement already satisfied: rsa<5,>=3.1.4 in c:\\users\\santhi_311\\appdata\\local\\programs\\python\\python36\\lib\\site-packages (from google-auth<2,>=1.6.3->tensorboard<2.7,>=2.6.0->tensorflow<3,>=2.1.0->tensorflowjs) (4.9)\n",
      "Requirement already satisfied: pyasn1-modules>=0.2.1 in c:\\users\\santhi_311\\appdata\\local\\programs\\python\\python36\\lib\\site-packages (from google-auth<2,>=1.6.3->tensorboard<2.7,>=2.6.0->tensorflow<3,>=2.1.0->tensorflowjs) (0.3.0)\n",
      "Requirement already satisfied: requests-oauthlib>=0.7.0 in c:\\users\\santhi_311\\appdata\\local\\programs\\python\\python36\\lib\\site-packages (from google-auth-oauthlib<0.5,>=0.4.1->tensorboard<2.7,>=2.6.0->tensorflow<3,>=2.1.0->tensorflowjs) (1.3.1)\n",
      "Requirement already satisfied: importlib-metadata>=4.4 in c:\\users\\santhi_311\\appdata\\local\\programs\\python\\python36\\lib\\site-packages (from markdown>=2.6.8->tensorboard<2.7,>=2.6.0->tensorflow<3,>=2.1.0->tensorflowjs) (4.8.3)\n",
      "Requirement already satisfied: urllib3<1.27,>=1.21.1 in c:\\users\\santhi_311\\appdata\\local\\programs\\python\\python36\\lib\\site-packages (from requests<3,>=2.21.0->tensorboard<2.7,>=2.6.0->tensorflow<3,>=2.1.0->tensorflowjs) (1.26.18)\n",
      "Requirement already satisfied: charset-normalizer~=2.0.0 in c:\\users\\santhi_311\\appdata\\local\\programs\\python\\python36\\lib\\site-packages (from requests<3,>=2.21.0->tensorboard<2.7,>=2.6.0->tensorflow<3,>=2.1.0->tensorflowjs) (2.0.12)\n",
      "Requirement already satisfied: certifi>=2017.4.17 in c:\\users\\santhi_311\\appdata\\local\\programs\\python\\python36\\lib\\site-packages (from requests<3,>=2.21.0->tensorboard<2.7,>=2.6.0->tensorflow<3,>=2.1.0->tensorflowjs) (2023.11.17)\n",
      "Requirement already satisfied: idna<4,>=2.5 in c:\\users\\santhi_311\\appdata\\local\\programs\\python\\python36\\lib\\site-packages (from requests<3,>=2.21.0->tensorboard<2.7,>=2.6.0->tensorflow<3,>=2.1.0->tensorflowjs) (3.6)\n",
      "Requirement already satisfied: dataclasses in c:\\users\\santhi_311\\appdata\\local\\programs\\python\\python36\\lib\\site-packages (from werkzeug>=0.11.15->tensorboard<2.7,>=2.6.0->tensorflow<3,>=2.1.0->tensorflowjs) (0.8)\n",
      "Requirement already satisfied: zipp>=0.5 in c:\\users\\santhi_311\\appdata\\local\\programs\\python\\python36\\lib\\site-packages (from importlib-metadata>=4.4->markdown>=2.6.8->tensorboard<2.7,>=2.6.0->tensorflow<3,>=2.1.0->tensorflowjs) (3.6.0)\n",
      "Requirement already satisfied: pyasn1<0.6.0,>=0.4.6 in c:\\users\\santhi_311\\appdata\\local\\programs\\python\\python36\\lib\\site-packages (from pyasn1-modules>=0.2.1->google-auth<2,>=1.6.3->tensorboard<2.7,>=2.6.0->tensorflow<3,>=2.1.0->tensorflowjs) (0.5.1)\n",
      "Requirement already satisfied: oauthlib>=3.0.0 in c:\\users\\santhi_311\\appdata\\local\\programs\\python\\python36\\lib\\site-packages (from requests-oauthlib>=0.7.0->google-auth-oauthlib<0.5,>=0.4.1->tensorboard<2.7,>=2.6.0->tensorflow<3,>=2.1.0->tensorflowjs) (3.2.2)\n",
      "Installing collected packages: tensorflow-hub, packaging, tensorflowjs\n",
      "  Attempting uninstall: packaging\n",
      "    Found existing installation: packaging 21.3\n",
      "    Uninstalling packaging-21.3:\n",
      "      Successfully uninstalled packaging-21.3\n",
      "Successfully installed packaging-20.9 tensorflow-hub-0.12.0 tensorflowjs-3.18.0\n"
     ]
    }
   ],
   "source": [
    "pip install tensorflowjs\n"
   ]
  },
  {
   "cell_type": "code",
   "execution_count": 3,
   "id": "7aa051a1",
   "metadata": {},
   "outputs": [
    {
     "ename": "SyntaxError",
     "evalue": "invalid syntax (<ipython-input-3-83e35b918e51>, line 1)",
     "output_type": "error",
     "traceback": [
      "\u001b[1;36m  File \u001b[1;32m\"<ipython-input-3-83e35b918e51>\"\u001b[1;36m, line \u001b[1;32m1\u001b[0m\n\u001b[1;33m    tensorflowjs_converter --input_format keras \\\u001b[0m\n\u001b[1;37m                                              ^\u001b[0m\n\u001b[1;31mSyntaxError\u001b[0m\u001b[1;31m:\u001b[0m invalid syntax\n"
     ]
    }
   ],
   "source": [
    "tensorflowjs_converter --input_format keras \\ \n",
    "                        \"C:\\Users\\Santhi_311\\Documents\\mediPlantScan\\src\\Components\\InceptionV3.h5\" \\\n",
    "                        \"C:\\Users\\Santhi_311\\Documents\\mediPlantScan\\src\\Components\\InceptionV3\"\n",
    "\n"
   ]
  },
  {
   "cell_type": "code",
   "execution_count": 4,
   "id": "5f0f44dd",
   "metadata": {},
   "outputs": [
    {
     "ename": "SyntaxError",
     "evalue": "invalid syntax (<ipython-input-4-2e958b208a59>, line 1)",
     "output_type": "error",
     "traceback": [
      "\u001b[1;36m  File \u001b[1;32m\"<ipython-input-4-2e958b208a59>\"\u001b[1;36m, line \u001b[1;32m1\u001b[0m\n\u001b[1;33m    tensorflowjs_converter --input_format keras \\\u001b[0m\n\u001b[1;37m                                              ^\u001b[0m\n\u001b[1;31mSyntaxError\u001b[0m\u001b[1;31m:\u001b[0m invalid syntax\n"
     ]
    }
   ],
   "source": [
    "tensorflowjs_converter --input_format keras \\\n",
    "    \"C:\\Users\\Santhi_311\\Documents\\mediPlantScan\\src\\Components\\InceptionV3.h5\" \\\n",
    "    \"C:\\Users\\Santhi_311\\Documents\\mediPlantScan\\src\\Components\\InceptionV3\"\n"
   ]
  },
  {
   "cell_type": "code",
   "execution_count": 8,
   "id": "92f1a92b",
   "metadata": {},
   "outputs": [
    {
     "ename": "SyntaxError",
     "evalue": "invalid syntax (<ipython-input-8-18da9c1c734e>, line 3)",
     "output_type": "error",
     "traceback": [
      "\u001b[1;36m  File \u001b[1;32m\"<ipython-input-8-18da9c1c734e>\"\u001b[1;36m, line \u001b[1;32m3\u001b[0m\n\u001b[1;33m    C:\\Users\\Santhi_311\\Documents\\mediPlantScan\\src\\Components\\InceptionV3.h5 \\\u001b[0m\n\u001b[1;37m    ^\u001b[0m\n\u001b[1;31mSyntaxError\u001b[0m\u001b[1;31m:\u001b[0m invalid syntax\n"
     ]
    }
   ],
   "source": [
    "tensorflowjs_converter \\\n",
    "    --input_format=keras \\\n",
    "    C:\\Users\\Santhi_311\\Documents\\mediPlantScan\\src\\Components\\InceptionV3.h5 \\\n",
    "    C:\\Users\\Santhi_311\\Documents\\mediPlantScan\\src\\Components\\InceptionV3"
   ]
  },
  {
   "cell_type": "code",
   "execution_count": 19,
   "id": "c01a71cf",
   "metadata": {},
   "outputs": [
    {
     "ename": "SyntaxError",
     "evalue": "can't assign to operator (<ipython-input-19-60f6e4bd93d7>, line 1)",
     "output_type": "error",
     "traceback": [
      "\u001b[1;36m  File \u001b[1;32m\"<ipython-input-19-60f6e4bd93d7>\"\u001b[1;36m, line \u001b[1;32m1\u001b[0m\n\u001b[1;33m    tensorflowjs_converter --input_format=keras /InceptionV3.h5\u001b[0m\n\u001b[1;37m                                                                ^\u001b[0m\n\u001b[1;31mSyntaxError\u001b[0m\u001b[1;31m:\u001b[0m can't assign to operator\n"
     ]
    }
   ],
   "source": [
    "tensorflowjs_converter --input_format=keras /InceptionV3.h5 "
   ]
  },
  {
   "cell_type": "code",
   "execution_count": null,
   "id": "08d0414b",
   "metadata": {},
   "outputs": [],
   "source": []
  },
  {
   "cell_type": "code",
   "execution_count": null,
   "id": "e9588aec",
   "metadata": {},
   "outputs": [],
   "source": []
  }
 ],
 "metadata": {
  "kernelspec": {
   "display_name": "Python 3",
   "language": "python",
   "name": "python3"
  },
  "language_info": {
   "codemirror_mode": {
    "name": "ipython",
    "version": 3
   },
   "file_extension": ".py",
   "mimetype": "text/x-python",
   "name": "python",
   "nbconvert_exporter": "python",
   "pygments_lexer": "ipython3",
   "version": "3.6.6"
  }
 },
 "nbformat": 4,
 "nbformat_minor": 5
}
